{
 "cells": [
  {
   "cell_type": "code",
   "execution_count": 1,
   "id": "excellent-drink",
   "metadata": {},
   "outputs": [
    {
     "name": "stdout",
     "output_type": "stream",
     "text": [
      "Collecting pysqlite3\n",
      "  Using cached pysqlite3-0.4.5.tar.gz (40 kB)\n",
      "Building wheels for collected packages: pysqlite3\n",
      "  Building wheel for pysqlite3 (setup.py): started\n",
      "  Building wheel for pysqlite3 (setup.py): finished with status 'done'\n",
      "  Running setup.py clean for pysqlite3\n",
      "Failed to build pysqlite3\n",
      "Installing collected packages: pysqlite3\n",
      "    Running setup.py install for pysqlite3: started\n",
      "    Running setup.py install for pysqlite3: finished with status 'done'\n",
      "Successfully installed pysqlite3\n"
     ]
    },
    {
     "name": "stderr",
     "output_type": "stream",
     "text": [
      "  WARNING: Legacy build of wheel for 'pysqlite3' created no files.\n",
      "  Command arguments: 'C:\\Users\\Marco Gamez\\Miniconda3\\envs\\actumlogos-cpu\\python.exe' -u -c 'import sys, setuptools, tokenize; sys.argv[0] = '\"'\"'C:\\\\Users\\\\MARCOG~1\\\\AppData\\\\Local\\\\Temp\\\\pip-install-8cwexkc4\\\\pysqlite3_89625c53b9cf42749311c7e25c5c81d2\\\\setup.py'\"'\"'; __file__='\"'\"'C:\\\\Users\\\\MARCOG~1\\\\AppData\\\\Local\\\\Temp\\\\pip-install-8cwexkc4\\\\pysqlite3_89625c53b9cf42749311c7e25c5c81d2\\\\setup.py'\"'\"';f=getattr(tokenize, '\"'\"'open'\"'\"', open)(__file__);code=f.read().replace('\"'\"'\\r\\n'\"'\"', '\"'\"'\\n'\"'\"');f.close();exec(compile(code, __file__, '\"'\"'exec'\"'\"'))' bdist_wheel -d 'C:\\Users\\MARCOG~1\\AppData\\Local\\Temp\\pip-wheel-8hxslphm'\n",
      "  Command output: [use --verbose to show]\n",
      "WARNING: Error parsing requirements for threadpoolctl: [Errno 2] No such file or directory: 'c:\\\\users\\\\marco gamez\\\\miniconda3\\\\envs\\\\actumlogos-cpu\\\\lib\\\\site-packages\\\\threadpoolctl-2.1.0.dist-info\\\\METADATA'\n",
      "WARNING: Error parsing requirements for google-pasta: [Errno 2] No such file or directory: 'c:\\\\users\\\\marco gamez\\\\miniconda3\\\\envs\\\\actumlogos-cpu\\\\lib\\\\site-packages\\\\google_pasta-0.2.0.dist-info\\\\METADATA'\n"
     ]
    },
    {
     "name": "stdout",
     "output_type": "stream",
     "text": [
      "Requirement already satisfied: sqlalchemy in c:\\users\\marco gamez\\miniconda3\\envs\\actumlogos-cpu\\lib\\site-packages (1.4.3)\n",
      "Requirement already satisfied: greenlet!=0.4.17 in c:\\users\\marco gamez\\miniconda3\\envs\\actumlogos-cpu\\lib\\site-packages (from sqlalchemy) (1.0.0)\n",
      "Requirement already satisfied: importlib-metadata in c:\\users\\marco gamez\\miniconda3\\envs\\actumlogos-cpu\\lib\\site-packages (from sqlalchemy) (3.7.3)\n",
      "Requirement already satisfied: zipp>=0.5 in c:\\users\\marco gamez\\miniconda3\\envs\\actumlogos-cpu\\lib\\site-packages (from importlib-metadata->sqlalchemy) (3.4.1)\n",
      "Requirement already satisfied: typing-extensions>=3.6.4 in c:\\users\\marco gamez\\miniconda3\\envs\\actumlogos-cpu\\lib\\site-packages (from importlib-metadata->sqlalchemy) (3.7.4.3)\n"
     ]
    },
    {
     "name": "stderr",
     "output_type": "stream",
     "text": [
      "WARNING: Error parsing requirements for threadpoolctl: [Errno 2] No such file or directory: 'c:\\\\users\\\\marco gamez\\\\miniconda3\\\\envs\\\\actumlogos-cpu\\\\lib\\\\site-packages\\\\threadpoolctl-2.1.0.dist-info\\\\METADATA'\n",
      "WARNING: Error parsing requirements for google-pasta: [Errno 2] No such file or directory: 'c:\\\\users\\\\marco gamez\\\\miniconda3\\\\envs\\\\actumlogos-cpu\\\\lib\\\\site-packages\\\\google_pasta-0.2.0.dist-info\\\\METADATA'\n"
     ]
    }
   ],
   "source": [
    "!pip install pysqlite3\n",
    "!pip install sqlalchemy"
   ]
  },
  {
   "cell_type": "code",
   "execution_count": 2,
   "id": "proof-mention",
   "metadata": {},
   "outputs": [],
   "source": [
    "import pandas as pd\n",
    "import numpy as np\n",
    "import sqlite3\n",
    "from sqlalchemy import create_engine"
   ]
  },
  {
   "cell_type": "code",
   "execution_count": 3,
   "id": "impossible-mortality",
   "metadata": {},
   "outputs": [
    {
     "name": "stdout",
     "output_type": "stream",
     "text": [
      "File Directory: D:\\Health Data Science Program\\Módulo 4 Obtención de datos y generación de repositorios\\Actividades\\def17.csv\n"
     ]
    }
   ],
   "source": [
    "#Set data directory\n",
    "DIR = 'D:\\Health Data Science Program\\Módulo 4 Obtención de datos y generación de repositorios\\Actividades'\n",
    "FILE  = '\\def17.csv'\n",
    "\n",
    "file = '{}{}'.format(DIR, FILE)\n",
    "\n",
    "print('File Directory: {}'.format(file))"
   ]
  },
  {
   "cell_type": "code",
   "execution_count": 4,
   "id": "historic-phrase",
   "metadata": {},
   "outputs": [
    {
     "name": "stdout",
     "output_type": "stream",
     "text": [
      "   ENT_REGIS  MUN_REGIS  ENT_RESID  MUN_RESID  TLOC_RESID  LOC_RESID  \\\n",
      "0          1          1          1          1          15          1   \n",
      "1          1          9          1          9           1         16   \n",
      "\n",
      "   ENT_OCURR  MUN_OCURR  TLOC_OCURR  LOC_OCUR  ... ANIO_CERT MATERNAS  LENGUA  \\\n",
      "0          1          1          15         1  ...      2017      NaN       9   \n",
      "1          1          9           1        16  ...      2017      NaN       9   \n",
      "\n",
      "   COND_ACT  PAR_AGRE  ENT_OCULES  MUN_OCULES  LOC_OCULES  RAZON_M  DIS_RE_OAX  \n",
      "0         2        88          88         888        8888      NaN         999  \n",
      "1         2        88          88         888        8888      NaN         999  \n",
      "\n",
      "[2 rows x 59 columns]\n"
     ]
    }
   ],
   "source": [
    "#Read the head of the DataSet\n",
    "print(pd.read_csv(file, nrows=2))"
   ]
  },
  {
   "cell_type": "markdown",
   "id": "parliamentary-plaintiff",
   "metadata": {},
   "source": [
    "## Carga de datos de manera más rápida utilizando SQL"
   ]
  },
  {
   "cell_type": "code",
   "execution_count": 5,
   "id": "abstract-essay",
   "metadata": {},
   "outputs": [],
   "source": [
    "#Create a connector to a database\n",
    "csv_database = create_engine('sqlite:///excel_database.db')"
   ]
  },
  {
   "cell_type": "code",
   "execution_count": 6,
   "id": "alike-horizontal",
   "metadata": {},
   "outputs": [
    {
     "name": "stdout",
     "output_type": "stream",
     "text": [
      "| index: 10000\n",
      "| index: 30000\n",
      "| index: 60000\n",
      "| index: 100000\n",
      "| index: 150000\n",
      "| index: 210000\n",
      "| index: 280000\n",
      "| index: 360000\n",
      "| index: 450000\n",
      "| index: 550000\n",
      "| index: 660000\n",
      "| index: 780000\n",
      "| index: 910000\n",
      "| index: 1050000\n",
      "| index: 1200000\n",
      "| index: 1360000\n",
      "| index: 1530000\n",
      "| index: 1710000\n",
      "| index: 1900000\n",
      "| index: 2100000\n",
      "| index: 2310000\n",
      "| index: 2530000\n",
      "| index: 2760000\n",
      "| index: 3000000\n",
      "| index: 3250000\n",
      "| index: 3510000\n",
      "| index: 3780000\n",
      "| index: 4060000\n",
      "| index: 4350000\n",
      "| index: 4650000\n",
      "| index: 4960000\n",
      "| index: 5280000\n",
      "| index: 5610000\n",
      "| index: 5950000\n",
      "| index: 6300000\n",
      "| index: 6660000\n",
      "| index: 7030000\n",
      "| index: 7410000\n",
      "| index: 7800000\n",
      "| index: 8200000\n",
      "| index: 8610000\n",
      "| index: 9030000\n",
      "| index: 9460000\n",
      "| index: 9900000\n",
      "| index: 10350000\n",
      "| index: 10810000\n",
      "| index: 11280000\n",
      "| index: 11760000\n",
      "| index: 12250000\n",
      "| index: 12750000\n",
      "| index: 13260000\n",
      "| index: 13780000\n",
      "| index: 14310000\n",
      "| index: 14850000\n",
      "| index: 15400000\n",
      "| index: 15960000\n",
      "| index: 16530000\n",
      "| index: 17110000\n",
      "| index: 17700000\n",
      "| index: 18300000\n",
      "| index: 18910000\n",
      "| index: 19530000\n",
      "| index: 20160000\n",
      "| index: 20800000\n",
      "| index: 21450000\n",
      "| index: 22110000\n",
      "| index: 22780000\n",
      "| index: 23460000\n",
      "| index: 24150000\n",
      "| index: 24850000\n",
      "| index: 25553047\n"
     ]
    }
   ],
   "source": [
    "#Building the database by chunking\n",
    "chunksize = 10000\n",
    "i = 0\n",
    "j=0\n",
    "\n",
    "for df in pd.read_csv(file, chunksize = chunksize, iterator=True):\n",
    "    df = df.rename(columns = {c: c.replace(' ', '') for c in df.columns})\n",
    "    df.index += j\n",
    "    \n",
    "    df.to_sql('data_use', csv_database, if_exists = 'append')\n",
    "    j = df.index[-1]+1\n",
    "    \n",
    "    print('| index: {}'.format(j))\n"
   ]
  },
  {
   "cell_type": "code",
   "execution_count": 7,
   "id": "adequate-karen",
   "metadata": {},
   "outputs": [],
   "source": [
    "#Construct dataframe for research use from the database\n",
    "df = pd.read_sql_query('SELECT ENT_REGIS, MUN_REGIS, ENT_RESID, CAUSA_DEF, MES_OCURR FROM data_use', csv_database)"
   ]
  },
  {
   "cell_type": "code",
   "execution_count": 8,
   "id": "known-suite",
   "metadata": {},
   "outputs": [
    {
     "data": {
      "text/html": [
       "<div>\n",
       "<style scoped>\n",
       "    .dataframe tbody tr th:only-of-type {\n",
       "        vertical-align: middle;\n",
       "    }\n",
       "\n",
       "    .dataframe tbody tr th {\n",
       "        vertical-align: top;\n",
       "    }\n",
       "\n",
       "    .dataframe thead th {\n",
       "        text-align: right;\n",
       "    }\n",
       "</style>\n",
       "<table border=\"1\" class=\"dataframe\">\n",
       "  <thead>\n",
       "    <tr style=\"text-align: right;\">\n",
       "      <th></th>\n",
       "      <th>ENT_REGIS</th>\n",
       "      <th>MUN_REGIS</th>\n",
       "      <th>ENT_RESID</th>\n",
       "      <th>CAUSA_DEF</th>\n",
       "      <th>MES_OCURR</th>\n",
       "    </tr>\n",
       "  </thead>\n",
       "  <tbody>\n",
       "    <tr>\n",
       "      <th>0</th>\n",
       "      <td>1</td>\n",
       "      <td>1</td>\n",
       "      <td>1</td>\n",
       "      <td>I679</td>\n",
       "      <td>7</td>\n",
       "    </tr>\n",
       "    <tr>\n",
       "      <th>1</th>\n",
       "      <td>1</td>\n",
       "      <td>9</td>\n",
       "      <td>1</td>\n",
       "      <td>I64X</td>\n",
       "      <td>11</td>\n",
       "    </tr>\n",
       "    <tr>\n",
       "      <th>2</th>\n",
       "      <td>1</td>\n",
       "      <td>1</td>\n",
       "      <td>1</td>\n",
       "      <td>E112</td>\n",
       "      <td>2</td>\n",
       "    </tr>\n",
       "    <tr>\n",
       "      <th>3</th>\n",
       "      <td>1</td>\n",
       "      <td>6</td>\n",
       "      <td>1</td>\n",
       "      <td>X590</td>\n",
       "      <td>12</td>\n",
       "    </tr>\n",
       "    <tr>\n",
       "      <th>4</th>\n",
       "      <td>1</td>\n",
       "      <td>1</td>\n",
       "      <td>1</td>\n",
       "      <td>I251</td>\n",
       "      <td>3</td>\n",
       "    </tr>\n",
       "  </tbody>\n",
       "</table>\n",
       "</div>"
      ],
      "text/plain": [
       "   ENT_REGIS  MUN_REGIS  ENT_RESID CAUSA_DEF  MES_OCURR\n",
       "0          1          1          1      I679          7\n",
       "1          1          9          1      I64X         11\n",
       "2          1          1          1      E112          2\n",
       "3          1          6          1      X590         12\n",
       "4          1          1          1      I251          3"
      ]
     },
     "execution_count": 8,
     "metadata": {},
     "output_type": "execute_result"
    }
   ],
   "source": [
    "df.head(5)"
   ]
  },
  {
   "cell_type": "code",
   "execution_count": 9,
   "id": "forty-delight",
   "metadata": {},
   "outputs": [
    {
     "data": {
      "text/plain": [
       "RangeIndex(start=0, stop=3515235, step=1)"
      ]
     },
     "execution_count": 9,
     "metadata": {},
     "output_type": "execute_result"
    }
   ],
   "source": [
    "df.index"
   ]
  },
  {
   "cell_type": "markdown",
   "id": "restricted-swedish",
   "metadata": {},
   "source": [
    "## Principales Causas de Muerte en México 2017"
   ]
  },
  {
   "cell_type": "code",
   "execution_count": 10,
   "id": "charitable-spirituality",
   "metadata": {},
   "outputs": [
    {
     "data": {
      "text/html": [
       "<div>\n",
       "<style scoped>\n",
       "    .dataframe tbody tr th:only-of-type {\n",
       "        vertical-align: middle;\n",
       "    }\n",
       "\n",
       "    .dataframe tbody tr th {\n",
       "        vertical-align: top;\n",
       "    }\n",
       "\n",
       "    .dataframe thead th {\n",
       "        text-align: right;\n",
       "    }\n",
       "</style>\n",
       "<table border=\"1\" class=\"dataframe\">\n",
       "  <thead>\n",
       "    <tr style=\"text-align: right;\">\n",
       "      <th></th>\n",
       "      <th>ENT_REGIS</th>\n",
       "      <th>MUN_REGIS</th>\n",
       "      <th>ENT_RESID</th>\n",
       "      <th>MES_OCURR</th>\n",
       "    </tr>\n",
       "    <tr>\n",
       "      <th>CAUSA_DEF</th>\n",
       "      <th></th>\n",
       "      <th></th>\n",
       "      <th></th>\n",
       "      <th></th>\n",
       "    </tr>\n",
       "  </thead>\n",
       "  <tbody>\n",
       "    <tr>\n",
       "      <th>I219</th>\n",
       "      <td>462775</td>\n",
       "      <td>462775</td>\n",
       "      <td>462775</td>\n",
       "      <td>462775</td>\n",
       "    </tr>\n",
       "    <tr>\n",
       "      <th>E119</th>\n",
       "      <td>155385</td>\n",
       "      <td>155385</td>\n",
       "      <td>155385</td>\n",
       "      <td>155385</td>\n",
       "    </tr>\n",
       "    <tr>\n",
       "      <th>E112</th>\n",
       "      <td>138100</td>\n",
       "      <td>138100</td>\n",
       "      <td>138100</td>\n",
       "      <td>138100</td>\n",
       "    </tr>\n",
       "    <tr>\n",
       "      <th>J189</th>\n",
       "      <td>86010</td>\n",
       "      <td>86010</td>\n",
       "      <td>86010</td>\n",
       "      <td>86010</td>\n",
       "    </tr>\n",
       "    <tr>\n",
       "      <th>K746</th>\n",
       "      <td>76935</td>\n",
       "      <td>76935</td>\n",
       "      <td>76935</td>\n",
       "      <td>76935</td>\n",
       "    </tr>\n",
       "    <tr>\n",
       "      <th>...</th>\n",
       "      <td>...</td>\n",
       "      <td>...</td>\n",
       "      <td>...</td>\n",
       "      <td>...</td>\n",
       "    </tr>\n",
       "    <tr>\n",
       "      <th>W796</th>\n",
       "      <td>5</td>\n",
       "      <td>5</td>\n",
       "      <td>5</td>\n",
       "      <td>5</td>\n",
       "    </tr>\n",
       "    <tr>\n",
       "      <th>M485</th>\n",
       "      <td>5</td>\n",
       "      <td>5</td>\n",
       "      <td>5</td>\n",
       "      <td>5</td>\n",
       "    </tr>\n",
       "    <tr>\n",
       "      <th>M484</th>\n",
       "      <td>5</td>\n",
       "      <td>5</td>\n",
       "      <td>5</td>\n",
       "      <td>5</td>\n",
       "    </tr>\n",
       "    <tr>\n",
       "      <th>E671</th>\n",
       "      <td>5</td>\n",
       "      <td>5</td>\n",
       "      <td>5</td>\n",
       "      <td>5</td>\n",
       "    </tr>\n",
       "    <tr>\n",
       "      <th>Q222</th>\n",
       "      <td>5</td>\n",
       "      <td>5</td>\n",
       "      <td>5</td>\n",
       "      <td>5</td>\n",
       "    </tr>\n",
       "  </tbody>\n",
       "</table>\n",
       "<p>3948 rows × 4 columns</p>\n",
       "</div>"
      ],
      "text/plain": [
       "           ENT_REGIS  MUN_REGIS  ENT_RESID  MES_OCURR\n",
       "CAUSA_DEF                                            \n",
       "I219          462775     462775     462775     462775\n",
       "E119          155385     155385     155385     155385\n",
       "E112          138100     138100     138100     138100\n",
       "J189           86010      86010      86010      86010\n",
       "K746           76935      76935      76935      76935\n",
       "...              ...        ...        ...        ...\n",
       "W796               5          5          5          5\n",
       "M485               5          5          5          5\n",
       "M484               5          5          5          5\n",
       "E671               5          5          5          5\n",
       "Q222               5          5          5          5\n",
       "\n",
       "[3948 rows x 4 columns]"
      ]
     },
     "execution_count": 10,
     "metadata": {},
     "output_type": "execute_result"
    }
   ],
   "source": [
    "#Agrupación de valores por tipo de enfermedad y mayor número de decesos \n",
    "defunciones = df.groupby(['CAUSA_DEF']).count()\n",
    "defunciones = defunciones.sort_values('MES_OCURR',ascending = 0)\n",
    "defunciones"
   ]
  },
  {
   "cell_type": "code",
   "execution_count": 11,
   "id": "indirect-window",
   "metadata": {},
   "outputs": [
    {
     "name": "stdout",
     "output_type": "stream",
     "text": [
      "Códigos correspondientes a las principales muertes en México en 2017: \n",
      "1. I219\n",
      "2. E119\n",
      "3. E112\n"
     ]
    }
   ],
   "source": [
    "#Busqueda de códigos correspondietes a las principales enfermedades\n",
    "print('Códigos correspondientes a las principales muertes en México en 2017: ')\n",
    "\n",
    "i = 1\n",
    "index_defunciones = []\n",
    "\n",
    "for index in defunciones.index:\n",
    "    if i < 4:\n",
    "        print('{}. {}'.format(i, index))\n",
    "        index_defunciones.append(index)\n",
    "        i = i+1\n",
    "    else:\n",
    "        break;\n",
    "        \n",
    "    "
   ]
  },
  {
   "cell_type": "markdown",
   "id": "searching-albert",
   "metadata": {},
   "source": [
    "## Limpieza de dataset correspondiente a las enfermedades"
   ]
  },
  {
   "cell_type": "code",
   "execution_count": 12,
   "id": "european-practice",
   "metadata": {},
   "outputs": [],
   "source": [
    "#Carga de dataset relacionado al código de las enfermmedades\n",
    "codigos = pd.read_csv(r\"D:\\Health Data Science Program\\Módulo 4 Obtención de datos y generación de repositorios\\Actividades\\decatcausa.csv\", encoding = 'latin-1', sep = '\\n' )"
   ]
  },
  {
   "cell_type": "code",
   "execution_count": 13,
   "id": "floral-composer",
   "metadata": {},
   "outputs": [
    {
     "data": {
      "text/html": [
       "<div>\n",
       "<style scoped>\n",
       "    .dataframe tbody tr th:only-of-type {\n",
       "        vertical-align: middle;\n",
       "    }\n",
       "\n",
       "    .dataframe tbody tr th {\n",
       "        vertical-align: top;\n",
       "    }\n",
       "\n",
       "    .dataframe thead th {\n",
       "        text-align: right;\n",
       "    }\n",
       "</style>\n",
       "<table border=\"1\" class=\"dataframe\">\n",
       "  <thead>\n",
       "    <tr style=\"text-align: right;\">\n",
       "      <th></th>\n",
       "      <th>CLAVE\\tNOMBRE,,,,,,,</th>\n",
       "    </tr>\n",
       "  </thead>\n",
       "  <tbody>\n",
       "    <tr>\n",
       "      <th>0</th>\n",
       "      <td>A000\\t\"Cólera debido a Vibrio cholerae 01,\" bi...</td>\n",
       "    </tr>\n",
       "    <tr>\n",
       "      <th>1</th>\n",
       "      <td>A001\\t\"Cólera debido a Vibrio cholerae 01,\" bi...</td>\n",
       "    </tr>\n",
       "    <tr>\n",
       "      <th>2</th>\n",
       "      <td>A009\\t\"Cólera,\" no especificado\"\"\",,,,,,</td>\n",
       "    </tr>\n",
       "    <tr>\n",
       "      <th>3</th>\n",
       "      <td>A010\\tFiebre tifoidea,,,,,,,</td>\n",
       "    </tr>\n",
       "    <tr>\n",
       "      <th>4</th>\n",
       "      <td>A011\\tFiebre paratifoidea A,,,,,,,</td>\n",
       "    </tr>\n",
       "    <tr>\n",
       "      <th>...</th>\n",
       "      <td>...</td>\n",
       "    </tr>\n",
       "    <tr>\n",
       "      <th>10658</th>\n",
       "      <td>Y919\\t\"Alcoholismo,\" nivel de intoxicación no ...</td>\n",
       "    </tr>\n",
       "    <tr>\n",
       "      <th>10659</th>\n",
       "      <td>Y95X\\tAfección nosocomial,,,,,,,</td>\n",
       "    </tr>\n",
       "    <tr>\n",
       "      <th>10660</th>\n",
       "      <td>Y96X\\tAfección relacionada con el trabajo,,,,,,,</td>\n",
       "    </tr>\n",
       "    <tr>\n",
       "      <th>10661</th>\n",
       "      <td>Y97X\\tAfección relacionada con la contaminació...</td>\n",
       "    </tr>\n",
       "    <tr>\n",
       "      <th>10662</th>\n",
       "      <td>Y98X\\tAfección relacionada con el estilo de vi...</td>\n",
       "    </tr>\n",
       "  </tbody>\n",
       "</table>\n",
       "<p>10663 rows × 1 columns</p>\n",
       "</div>"
      ],
      "text/plain": [
       "                                    CLAVE\\tNOMBRE,,,,,,,\n",
       "0      A000\\t\"Cólera debido a Vibrio cholerae 01,\" bi...\n",
       "1      A001\\t\"Cólera debido a Vibrio cholerae 01,\" bi...\n",
       "2               A009\\t\"Cólera,\" no especificado\"\"\",,,,,,\n",
       "3                           A010\\tFiebre tifoidea,,,,,,,\n",
       "4                     A011\\tFiebre paratifoidea A,,,,,,,\n",
       "...                                                  ...\n",
       "10658  Y919\\t\"Alcoholismo,\" nivel de intoxicación no ...\n",
       "10659                   Y95X\\tAfección nosocomial,,,,,,,\n",
       "10660   Y96X\\tAfección relacionada con el trabajo,,,,,,,\n",
       "10661  Y97X\\tAfección relacionada con la contaminació...\n",
       "10662  Y98X\\tAfección relacionada con el estilo de vi...\n",
       "\n",
       "[10663 rows x 1 columns]"
      ]
     },
     "execution_count": 13,
     "metadata": {},
     "output_type": "execute_result"
    }
   ],
   "source": [
    "codigos"
   ]
  },
  {
   "cell_type": "code",
   "execution_count": 14,
   "id": "cleared-penetration",
   "metadata": {},
   "outputs": [
    {
     "data": {
      "text/plain": [
       "Index(['CLAVE\\tNOMBRE,,,,,,,'], dtype='object')"
      ]
     },
     "execution_count": 14,
     "metadata": {},
     "output_type": "execute_result"
    }
   ],
   "source": [
    "codigos.columns"
   ]
  },
  {
   "cell_type": "code",
   "execution_count": 15,
   "id": "excited-azerbaijan",
   "metadata": {},
   "outputs": [],
   "source": [
    "df_codes = codigos['CLAVE\\tNOMBRE,,,,,,,']"
   ]
  },
  {
   "cell_type": "code",
   "execution_count": 16,
   "id": "brilliant-mirror",
   "metadata": {},
   "outputs": [
    {
     "data": {
      "text/plain": [
       "0        A000\\t\"Cólera debido a Vibrio cholerae 01,\" bi...\n",
       "1        A001\\t\"Cólera debido a Vibrio cholerae 01,\" bi...\n",
       "2                 A009\\t\"Cólera,\" no especificado\"\"\",,,,,,\n",
       "3                             A010\\tFiebre tifoidea,,,,,,,\n",
       "4                       A011\\tFiebre paratifoidea A,,,,,,,\n",
       "                               ...                        \n",
       "10658    Y919\\t\"Alcoholismo,\" nivel de intoxicación no ...\n",
       "10659                     Y95X\\tAfección nosocomial,,,,,,,\n",
       "10660     Y96X\\tAfección relacionada con el trabajo,,,,,,,\n",
       "10661    Y97X\\tAfección relacionada con la contaminació...\n",
       "10662    Y98X\\tAfección relacionada con el estilo de vi...\n",
       "Name: CLAVE\\tNOMBRE,,,,,,,, Length: 10663, dtype: object"
      ]
     },
     "execution_count": 16,
     "metadata": {},
     "output_type": "execute_result"
    }
   ],
   "source": [
    "df_codes"
   ]
  },
  {
   "cell_type": "code",
   "execution_count": 17,
   "id": "collaborative-clone",
   "metadata": {},
   "outputs": [
    {
     "data": {
      "text/plain": [
       "'C491\\t\"Tumor maligno del tejido conjuntivo y tejido blando del miembro superior,\" incluido el hombro\"\"\",,,,,,'"
      ]
     },
     "execution_count": 17,
     "metadata": {},
     "output_type": "execute_result"
    }
   ],
   "source": [
    "df_codes[1000]"
   ]
  },
  {
   "cell_type": "code",
   "execution_count": 18,
   "id": "finnish-engine",
   "metadata": {},
   "outputs": [],
   "source": [
    "#División de códigos con respectivo nombre de la enfermedad\n",
    "lista_claves = []\n",
    "lista_enfermedad = []\n",
    "for index in df_codes:\n",
    "    lista_claves.append(index[0:4])\n",
    "    lista_enfermedad.append(index[4:])"
   ]
  },
  {
   "cell_type": "code",
   "execution_count": 19,
   "id": "national-church",
   "metadata": {},
   "outputs": [],
   "source": [
    "#Limpieza de nombres relacionados a la enfermedad\n",
    "lista_enfermedad1 = []\n",
    "for index in lista_enfermedad:\n",
    "    index = index.replace(',','')\n",
    "    index = index.replace('\"', '')\n",
    "    index = index.replace('\\t', '')\n",
    "    lista_enfermedad1.append(index)\n",
    "    \n"
   ]
  },
  {
   "cell_type": "code",
   "execution_count": 20,
   "id": "invisible-grade",
   "metadata": {},
   "outputs": [],
   "source": [
    "#DataFrame con las Claves y Enferemdades\n",
    "df_disease = pd.DataFrame()\n",
    "df_disease['Clave'] = lista_claves\n",
    "df_disease['Nombre'] = lista_enfermedad1 "
   ]
  },
  {
   "cell_type": "code",
   "execution_count": 21,
   "id": "incorporate-marijuana",
   "metadata": {},
   "outputs": [
    {
     "data": {
      "text/html": [
       "<div>\n",
       "<style scoped>\n",
       "    .dataframe tbody tr th:only-of-type {\n",
       "        vertical-align: middle;\n",
       "    }\n",
       "\n",
       "    .dataframe tbody tr th {\n",
       "        vertical-align: top;\n",
       "    }\n",
       "\n",
       "    .dataframe thead th {\n",
       "        text-align: right;\n",
       "    }\n",
       "</style>\n",
       "<table border=\"1\" class=\"dataframe\">\n",
       "  <thead>\n",
       "    <tr style=\"text-align: right;\">\n",
       "      <th></th>\n",
       "      <th>Clave</th>\n",
       "      <th>Nombre</th>\n",
       "    </tr>\n",
       "  </thead>\n",
       "  <tbody>\n",
       "    <tr>\n",
       "      <th>0</th>\n",
       "      <td>A000</td>\n",
       "      <td>Cólera debido a Vibrio cholerae 01 biotipo cho...</td>\n",
       "    </tr>\n",
       "    <tr>\n",
       "      <th>1</th>\n",
       "      <td>A001</td>\n",
       "      <td>Cólera debido a Vibrio cholerae 01 biotipo el Tor</td>\n",
       "    </tr>\n",
       "    <tr>\n",
       "      <th>2</th>\n",
       "      <td>A009</td>\n",
       "      <td>Cólera no especificado</td>\n",
       "    </tr>\n",
       "    <tr>\n",
       "      <th>3</th>\n",
       "      <td>A010</td>\n",
       "      <td>Fiebre tifoidea</td>\n",
       "    </tr>\n",
       "    <tr>\n",
       "      <th>4</th>\n",
       "      <td>A011</td>\n",
       "      <td>Fiebre paratifoidea A</td>\n",
       "    </tr>\n",
       "    <tr>\n",
       "      <th>...</th>\n",
       "      <td>...</td>\n",
       "      <td>...</td>\n",
       "    </tr>\n",
       "    <tr>\n",
       "      <th>10658</th>\n",
       "      <td>Y919</td>\n",
       "      <td>Alcoholismo nivel de intoxicación no especificado</td>\n",
       "    </tr>\n",
       "    <tr>\n",
       "      <th>10659</th>\n",
       "      <td>Y95X</td>\n",
       "      <td>Afección nosocomial</td>\n",
       "    </tr>\n",
       "    <tr>\n",
       "      <th>10660</th>\n",
       "      <td>Y96X</td>\n",
       "      <td>Afección relacionada con el trabajo</td>\n",
       "    </tr>\n",
       "    <tr>\n",
       "      <th>10661</th>\n",
       "      <td>Y97X</td>\n",
       "      <td>Afección relacionada con la contaminación ambi...</td>\n",
       "    </tr>\n",
       "    <tr>\n",
       "      <th>10662</th>\n",
       "      <td>Y98X</td>\n",
       "      <td>Afección relacionada con el estilo de vida</td>\n",
       "    </tr>\n",
       "  </tbody>\n",
       "</table>\n",
       "<p>10663 rows × 2 columns</p>\n",
       "</div>"
      ],
      "text/plain": [
       "      Clave                                             Nombre\n",
       "0      A000  Cólera debido a Vibrio cholerae 01 biotipo cho...\n",
       "1      A001  Cólera debido a Vibrio cholerae 01 biotipo el Tor\n",
       "2      A009                             Cólera no especificado\n",
       "3      A010                                    Fiebre tifoidea\n",
       "4      A011                              Fiebre paratifoidea A\n",
       "...     ...                                                ...\n",
       "10658  Y919  Alcoholismo nivel de intoxicación no especificado\n",
       "10659  Y95X                                Afección nosocomial\n",
       "10660  Y96X                Afección relacionada con el trabajo\n",
       "10661  Y97X  Afección relacionada con la contaminación ambi...\n",
       "10662  Y98X         Afección relacionada con el estilo de vida\n",
       "\n",
       "[10663 rows x 2 columns]"
      ]
     },
     "execution_count": 21,
     "metadata": {},
     "output_type": "execute_result"
    }
   ],
   "source": [
    "df_disease"
   ]
  },
  {
   "cell_type": "code",
   "execution_count": 22,
   "id": "neither-appointment",
   "metadata": {},
   "outputs": [
    {
     "name": "stdout",
     "output_type": "stream",
     "text": [
      "Causas principales de muerte en México en 2017\n",
      "     Clave                                             Nombre\n",
      "3254  I219  Infarto agudo del miocardio sin otra especific...\n",
      "     Clave                                             Nombre\n",
      "1784  E119  Diabetes mellitus no insulinodependiente sin m...\n",
      "     Clave                                             Nombre\n",
      "1777  E112  Diabetes mellitus no insulinodependiente con c...\n"
     ]
    }
   ],
   "source": [
    "#Busqueda de enfermedad utilizando claves previamente obtenidas\n",
    "print('Causas principales de muerte en México en 2017')\n",
    "\n",
    "for claves in index_defunciones:\n",
    "    print(df_disease.loc[df_disease['Clave'] == claves])\n",
    "    "
   ]
  },
  {
   "cell_type": "code",
   "execution_count": 23,
   "id": "arabic-metallic",
   "metadata": {},
   "outputs": [
    {
     "name": "stderr",
     "output_type": "stream",
     "text": [
      "C:\\Users\\Marco Gamez\\Miniconda3\\envs\\actumlogos-cpu\\lib\\site-packages\\ipykernel_launcher.py:11: MatplotlibDeprecationWarning: Case-insensitive properties were deprecated in 3.3 and support will be removed two minor releases later\n",
      "  # This is added back by InteractiveShellApp.init_path()\n",
      "C:\\Users\\Marco Gamez\\Miniconda3\\envs\\actumlogos-cpu\\lib\\site-packages\\ipykernel_launcher.py:12: MatplotlibDeprecationWarning: Case-insensitive properties were deprecated in 3.3 and support will be removed two minor releases later\n",
      "  if sys.path[0] == '':\n",
      "C:\\Users\\Marco Gamez\\Miniconda3\\envs\\actumlogos-cpu\\lib\\site-packages\\ipykernel_launcher.py:13: MatplotlibDeprecationWarning: Case-insensitive properties were deprecated in 3.3 and support will be removed two minor releases later\n",
      "  del sys.path[0]\n"
     ]
    },
    {
     "data": {
      "image/png": "[encoded data removed]",
      "text/plain": [
       "<Figure size 1656x720 with 1 Axes>"
      ]
     },
     "metadata": {
      "needs_background": "light"
     },
     "output_type": "display_data"
    }
   ],
   "source": [
    "#Visualización de Principales causas de muerte en México 2017\n",
    "import matplotlib.pyplot as plt\n",
    "plt.subplots(figsize = (23,10))\n",
    "\n",
    "primero = defunciones.iloc[0]['MES_OCURR']\n",
    "segundo = defunciones.iloc[1]['MES_OCURR']\n",
    "tercero = defunciones.iloc[2]['MES_OCURR']\n",
    "y = [primero, segundo, tercero]\n",
    "x = ['Infarto Agudo al Miocardio', 'Diabetes Mellitus no Insulinodependiente (sin mención de complicación)', 'Diabetes Mellitus no Insulinodependiente (con complicaciones renales)']\n",
    "plt.bar(x,y)\n",
    "plt.title('Principales causas de muerte en México en 2017', Fontsize = 15)\n",
    "plt.xlabel('Enfermedades', Fontsize = 15)\n",
    "plt.ylabel('Número de muertes', Fontsize = 15)\n",
    "plt.show()\n"
   ]
  },
  {
   "cell_type": "markdown",
   "id": "italian-mobile",
   "metadata": {},
   "source": [
    "## Estados con mayor incidencia de enfermedades detectadas"
   ]
  },
  {
   "cell_type": "code",
   "execution_count": 25,
   "id": "upset-attack",
   "metadata": {},
   "outputs": [
    {
     "data": {
      "text/plain": [
       "[2865,\n",
       " 10775,\n",
       " 2215,\n",
       " 2950,\n",
       " 11280,\n",
       " 3140,\n",
       " 14595,\n",
       " 14845,\n",
       " 54470,\n",
       " 8635,\n",
       " 25395,\n",
       " 11715,\n",
       " 11735,\n",
       " 28120,\n",
       " 49520,\n",
       " 16405,\n",
       " 7740,\n",
       " 4990,\n",
       " 21565,\n",
       " 13160,\n",
       " 24085,\n",
       " 7170,\n",
       " 2895,\n",
       " 9955,\n",
       " 11500,\n",
       " 12895,\n",
       " 7915,\n",
       " 14410,\n",
       " 3200,\n",
       " 37265,\n",
       " 10250,\n",
       " 5120]"
      ]
     },
     "execution_count": 25,
     "metadata": {},
     "output_type": "execute_result"
    }
   ],
   "source": [
    "#Cantidad de muertes relacionadas a INFARTOS con el código I219\n",
    "infartos = []\n",
    "for i in range(1,33):\n",
    "    infartos.append(((df['CAUSA_DEF']=='I219')&(df['ENT_REGIS']==i)).sum())\n",
    "infartos"
   ]
  },
  {
   "cell_type": "code",
   "execution_count": 134,
   "id": "coated-census",
   "metadata": {},
   "outputs": [
    {
     "name": "stdout",
     "output_type": "stream",
     "text": [
      "Indice Mayor (Referente al Estado):  8\n",
      "Número de Muertos por infartos:  43576\n"
     ]
    }
   ],
   "source": [
    "#Detección del índice del estado con mayor infartos en el país y número de muertos\n",
    "mayor_infartos = np.argmax(infartos)\n",
    "print('Indice Mayor (Referente al Estado): ',mayor_infartos)\n",
    "print('Número de Muertos por infartos: ',infartos[mayor_infartos])\n"
   ]
  },
  {
   "cell_type": "code",
   "execution_count": 42,
   "id": "distinguished-integrity",
   "metadata": {},
   "outputs": [],
   "source": [
    "#Cantidad de muertes relacionadas a DIABETES MELLITUS con el código E119\n",
    "diabetes_sc = []\n",
    "for i in range(1,33):\n",
    "    diabetes_sc.append(((df['CAUSA_DEF']=='E119')&(df['ENT_REGIS']==i)).sum())"
   ]
  },
  {
   "cell_type": "code",
   "execution_count": 135,
   "id": "adjacent-climb",
   "metadata": {},
   "outputs": [
    {
     "name": "stdout",
     "output_type": "stream",
     "text": [
      "Indice Mayor (Referente al Estado):  8\n",
      "Número de Muertos por infartos:  14692\n"
     ]
    }
   ],
   "source": [
    "#Detección del índice del estado con mayor diabetes sin complicaiones en el país y número de muertos\n",
    "mayor_diabetessc = np.argmax(diabetes_sc)\n",
    "print('Indice Mayor (Referente al Estado): ', mayor_diabetessc)\n",
    "print('Número de Muertos por infartos: ', diabetes_sc[mayor_diabetessc])"
   ]
  },
  {
   "cell_type": "code",
   "execution_count": 45,
   "id": "involved-section",
   "metadata": {},
   "outputs": [],
   "source": [
    "#Cantidad de muertes relacionadas a DIABETES MELITUS con el código E112\n",
    "diabetes_cc = []\n",
    "for i in range(1,33):\n",
    "    diabetes_cc.append(((df['CAUSA_DEF']=='E112')&(df['ENT_REGIS']==i)).sum())"
   ]
  },
  {
   "cell_type": "code",
   "execution_count": 136,
   "id": "accessible-barrel",
   "metadata": {},
   "outputs": [
    {
     "name": "stdout",
     "output_type": "stream",
     "text": [
      "Indice Mayor (Refente al Estado):  14\n",
      "Número de Muertos por infartos:  16284\n"
     ]
    }
   ],
   "source": [
    "#Detección del índice del estado con mayor diabetes con complicaiones en el país y número de muertos\n",
    "mayor_diabetescc = np.argmax(diabetes_cc)\n",
    "print('Indice Mayor (Refente al Estado): ', mayor_diabetescc)\n",
    "print('Número de Muertos por infartos: ', diabetes_cc[mayor_diabetescc])"
   ]
  },
  {
   "cell_type": "code",
   "execution_count": 65,
   "id": "dressed-refund",
   "metadata": {},
   "outputs": [],
   "source": [
    "#Carga de base de datos relacionada a los Estados de la República\n",
    "df_estados = pd.read_csv(r\"D:\\Health Data Science Program\\Módulo 4 Obtención de datos y generación de repositorios\\Actividades\\decateml.csv\", encoding = 'latin-1', sep = '\\n')"
   ]
  },
  {
   "cell_type": "code",
   "execution_count": 66,
   "id": "spatial-soundtrack",
   "metadata": {},
   "outputs": [
    {
     "data": {
      "text/html": [
       "<div>\n",
       "<style scoped>\n",
       "    .dataframe tbody tr th:only-of-type {\n",
       "        vertical-align: middle;\n",
       "    }\n",
       "\n",
       "    .dataframe tbody tr th {\n",
       "        vertical-align: top;\n",
       "    }\n",
       "\n",
       "    .dataframe thead th {\n",
       "        text-align: right;\n",
       "    }\n",
       "</style>\n",
       "<table border=\"1\" class=\"dataframe\">\n",
       "  <thead>\n",
       "    <tr style=\"text-align: right;\">\n",
       "      <th></th>\n",
       "      <th>CVE_ENT,CVE_MUN,CVE_LOC,NOM_LOC</th>\n",
       "    </tr>\n",
       "  </thead>\n",
       "  <tbody>\n",
       "    <tr>\n",
       "      <th>0</th>\n",
       "      <td>1,0,0,Aguascalientes</td>\n",
       "    </tr>\n",
       "    <tr>\n",
       "      <th>1</th>\n",
       "      <td>1,1,0,Aguascalientes</td>\n",
       "    </tr>\n",
       "    <tr>\n",
       "      <th>2</th>\n",
       "      <td>1,1,1,Aguascalientes</td>\n",
       "    </tr>\n",
       "    <tr>\n",
       "      <th>3</th>\n",
       "      <td>1,1,106,Arellano</td>\n",
       "    </tr>\n",
       "    <tr>\n",
       "      <th>4</th>\n",
       "      <td>1,1,127,Los Caños</td>\n",
       "    </tr>\n",
       "    <tr>\n",
       "      <th>...</th>\n",
       "      <td>...</td>\n",
       "    </tr>\n",
       "    <tr>\n",
       "      <th>28921</th>\n",
       "      <td>88,888,0,Municipio no aplica para A00 - R99 Y ...</td>\n",
       "    </tr>\n",
       "    <tr>\n",
       "      <th>28922</th>\n",
       "      <td>88,888,8888,Localidad no no aplica para A00 - ...</td>\n",
       "    </tr>\n",
       "    <tr>\n",
       "      <th>28923</th>\n",
       "      <td>99,0,0,Entidad no especficada</td>\n",
       "    </tr>\n",
       "    <tr>\n",
       "      <th>28924</th>\n",
       "      <td>99,999,0,Municipio no especificados</td>\n",
       "    </tr>\n",
       "    <tr>\n",
       "      <th>28925</th>\n",
       "      <td>99,999,9999,Localidad no especificada</td>\n",
       "    </tr>\n",
       "  </tbody>\n",
       "</table>\n",
       "<p>28926 rows × 1 columns</p>\n",
       "</div>"
      ],
      "text/plain": [
       "                         CVE_ENT,CVE_MUN,CVE_LOC,NOM_LOC\n",
       "0                                   1,0,0,Aguascalientes\n",
       "1                                   1,1,0,Aguascalientes\n",
       "2                                   1,1,1,Aguascalientes\n",
       "3                                       1,1,106,Arellano\n",
       "4                                      1,1,127,Los Caños\n",
       "...                                                  ...\n",
       "28921  88,888,0,Municipio no aplica para A00 - R99 Y ...\n",
       "28922  88,888,8888,Localidad no no aplica para A00 - ...\n",
       "28923                      99,0,0,Entidad no especficada\n",
       "28924                99,999,0,Municipio no especificados\n",
       "28925              99,999,9999,Localidad no especificada\n",
       "\n",
       "[28926 rows x 1 columns]"
      ]
     },
     "execution_count": 66,
     "metadata": {},
     "output_type": "execute_result"
    }
   ],
   "source": [
    "df_estados"
   ]
  },
  {
   "cell_type": "code",
   "execution_count": 67,
   "id": "relative-domain",
   "metadata": {},
   "outputs": [
    {
     "data": {
      "text/plain": [
       "Index(['CVE_ENT,CVE_MUN,CVE_LOC,NOM_LOC'], dtype='object')"
      ]
     },
     "execution_count": 67,
     "metadata": {},
     "output_type": "execute_result"
    }
   ],
   "source": [
    "df_estados.columns"
   ]
  },
  {
   "cell_type": "code",
   "execution_count": 68,
   "id": "processed-finland",
   "metadata": {},
   "outputs": [
    {
     "data": {
      "text/plain": [
       "0                                     1,0,0,Aguascalientes\n",
       "1                                     1,1,0,Aguascalientes\n",
       "2                                     1,1,1,Aguascalientes\n",
       "3                                         1,1,106,Arellano\n",
       "4                                        1,1,127,Los Caños\n",
       "                               ...                        \n",
       "28921    88,888,0,Municipio no aplica para A00 - R99 Y ...\n",
       "28922    88,888,8888,Localidad no no aplica para A00 - ...\n",
       "28923                        99,0,0,Entidad no especficada\n",
       "28924                  99,999,0,Municipio no especificados\n",
       "28925                99,999,9999,Localidad no especificada\n",
       "Name: CVE_ENT,CVE_MUN,CVE_LOC,NOM_LOC, Length: 28926, dtype: object"
      ]
     },
     "execution_count": 68,
     "metadata": {},
     "output_type": "execute_result"
    }
   ],
   "source": [
    "estados = df_estados['CVE_ENT,CVE_MUN,CVE_LOC,NOM_LOC']\n",
    "estados"
   ]
  },
  {
   "cell_type": "code",
   "execution_count": 131,
   "id": "subtle-channel",
   "metadata": {},
   "outputs": [],
   "source": [
    "#Obtención de Estados de la República Mexicana (LIMPIEZA)\n",
    "\n",
    "estados_procesed = []\n",
    "i = 0\n",
    "\n",
    "for i in range(1,33):\n",
    "    i_str = str(i)\n",
    "    for mex in estados:\n",
    "        est = mex.split(',')\n",
    "        if (est[0:3] == [i_str, '0', '0']):\n",
    "            estados_procesed.append(est[3:])\n",
    "        else:\n",
    "            pass\n",
    "\n"
   ]
  },
  {
   "cell_type": "code",
   "execution_count": 152,
   "id": "static-migration",
   "metadata": {},
   "outputs": [
    {
     "data": {
      "text/plain": [
       "[['Aguascalientes'],\n",
       " ['Baja California'],\n",
       " ['Baja California Sur'],\n",
       " ['Campeche'],\n",
       " ['Coahuila de Zaragoza'],\n",
       " ['Colima'],\n",
       " ['Chiapas'],\n",
       " ['Chihuahua'],\n",
       " ['Ciudad de México'],\n",
       " ['Durango'],\n",
       " ['Guanajuato'],\n",
       " ['Guerrero'],\n",
       " ['Hidalgo'],\n",
       " ['Jalisco'],\n",
       " ['México'],\n",
       " ['Michoacán de Ocampo'],\n",
       " ['Morelos'],\n",
       " ['Nayarit'],\n",
       " ['Nuevo León'],\n",
       " ['Oaxaca'],\n",
       " ['Puebla'],\n",
       " ['Querétaro'],\n",
       " ['Quintana Roo'],\n",
       " ['San Luis Potosí'],\n",
       " ['Sinaloa'],\n",
       " ['Sonora'],\n",
       " ['Tabasco'],\n",
       " ['Tamaulipas'],\n",
       " ['Tlaxcala'],\n",
       " ['Veracruz de Ignacio de la Llave'],\n",
       " ['Yucatán'],\n",
       " ['Zacatecas']]"
      ]
     },
     "execution_count": 152,
     "metadata": {},
     "output_type": "execute_result"
    }
   ],
   "source": [
    "estados_procesed"
   ]
  },
  {
   "cell_type": "code",
   "execution_count": 194,
   "id": "explicit-handbook",
   "metadata": {},
   "outputs": [],
   "source": [
    "estados_mex = pd.DataFrame()\n",
    "estados_mex['Estados'] = estados_procesed"
   ]
  },
  {
   "cell_type": "code",
   "execution_count": 195,
   "id": "monthly-billion",
   "metadata": {},
   "outputs": [
    {
     "data": {
      "text/html": [
       "<div>\n",
       "<style scoped>\n",
       "    .dataframe tbody tr th:only-of-type {\n",
       "        vertical-align: middle;\n",
       "    }\n",
       "\n",
       "    .dataframe tbody tr th {\n",
       "        vertical-align: top;\n",
       "    }\n",
       "\n",
       "    .dataframe thead th {\n",
       "        text-align: right;\n",
       "    }\n",
       "</style>\n",
       "<table border=\"1\" class=\"dataframe\">\n",
       "  <thead>\n",
       "    <tr style=\"text-align: right;\">\n",
       "      <th></th>\n",
       "      <th>Estados</th>\n",
       "    </tr>\n",
       "  </thead>\n",
       "  <tbody>\n",
       "    <tr>\n",
       "      <th>0</th>\n",
       "      <td>[Aguascalientes]</td>\n",
       "    </tr>\n",
       "    <tr>\n",
       "      <th>1</th>\n",
       "      <td>[Baja California]</td>\n",
       "    </tr>\n",
       "    <tr>\n",
       "      <th>2</th>\n",
       "      <td>[Baja California Sur]</td>\n",
       "    </tr>\n",
       "    <tr>\n",
       "      <th>3</th>\n",
       "      <td>[Campeche]</td>\n",
       "    </tr>\n",
       "    <tr>\n",
       "      <th>4</th>\n",
       "      <td>[Coahuila de Zaragoza]</td>\n",
       "    </tr>\n",
       "    <tr>\n",
       "      <th>5</th>\n",
       "      <td>[Colima]</td>\n",
       "    </tr>\n",
       "    <tr>\n",
       "      <th>6</th>\n",
       "      <td>[Chiapas]</td>\n",
       "    </tr>\n",
       "    <tr>\n",
       "      <th>7</th>\n",
       "      <td>[Chihuahua]</td>\n",
       "    </tr>\n",
       "    <tr>\n",
       "      <th>8</th>\n",
       "      <td>[Ciudad de México]</td>\n",
       "    </tr>\n",
       "    <tr>\n",
       "      <th>9</th>\n",
       "      <td>[Durango]</td>\n",
       "    </tr>\n",
       "    <tr>\n",
       "      <th>10</th>\n",
       "      <td>[Guanajuato]</td>\n",
       "    </tr>\n",
       "    <tr>\n",
       "      <th>11</th>\n",
       "      <td>[Guerrero]</td>\n",
       "    </tr>\n",
       "    <tr>\n",
       "      <th>12</th>\n",
       "      <td>[Hidalgo]</td>\n",
       "    </tr>\n",
       "    <tr>\n",
       "      <th>13</th>\n",
       "      <td>[Jalisco]</td>\n",
       "    </tr>\n",
       "    <tr>\n",
       "      <th>14</th>\n",
       "      <td>[México]</td>\n",
       "    </tr>\n",
       "    <tr>\n",
       "      <th>15</th>\n",
       "      <td>[Michoacán de Ocampo]</td>\n",
       "    </tr>\n",
       "    <tr>\n",
       "      <th>16</th>\n",
       "      <td>[Morelos]</td>\n",
       "    </tr>\n",
       "    <tr>\n",
       "      <th>17</th>\n",
       "      <td>[Nayarit]</td>\n",
       "    </tr>\n",
       "    <tr>\n",
       "      <th>18</th>\n",
       "      <td>[Nuevo León]</td>\n",
       "    </tr>\n",
       "    <tr>\n",
       "      <th>19</th>\n",
       "      <td>[Oaxaca]</td>\n",
       "    </tr>\n",
       "    <tr>\n",
       "      <th>20</th>\n",
       "      <td>[Puebla]</td>\n",
       "    </tr>\n",
       "    <tr>\n",
       "      <th>21</th>\n",
       "      <td>[Querétaro]</td>\n",
       "    </tr>\n",
       "    <tr>\n",
       "      <th>22</th>\n",
       "      <td>[Quintana Roo]</td>\n",
       "    </tr>\n",
       "    <tr>\n",
       "      <th>23</th>\n",
       "      <td>[San Luis Potosí]</td>\n",
       "    </tr>\n",
       "    <tr>\n",
       "      <th>24</th>\n",
       "      <td>[Sinaloa]</td>\n",
       "    </tr>\n",
       "    <tr>\n",
       "      <th>25</th>\n",
       "      <td>[Sonora]</td>\n",
       "    </tr>\n",
       "    <tr>\n",
       "      <th>26</th>\n",
       "      <td>[Tabasco]</td>\n",
       "    </tr>\n",
       "    <tr>\n",
       "      <th>27</th>\n",
       "      <td>[Tamaulipas]</td>\n",
       "    </tr>\n",
       "    <tr>\n",
       "      <th>28</th>\n",
       "      <td>[Tlaxcala]</td>\n",
       "    </tr>\n",
       "    <tr>\n",
       "      <th>29</th>\n",
       "      <td>[Veracruz de Ignacio de la Llave]</td>\n",
       "    </tr>\n",
       "    <tr>\n",
       "      <th>30</th>\n",
       "      <td>[Yucatán]</td>\n",
       "    </tr>\n",
       "    <tr>\n",
       "      <th>31</th>\n",
       "      <td>[Zacatecas]</td>\n",
       "    </tr>\n",
       "  </tbody>\n",
       "</table>\n",
       "</div>"
      ],
      "text/plain": [
       "                              Estados\n",
       "0                    [Aguascalientes]\n",
       "1                   [Baja California]\n",
       "2               [Baja California Sur]\n",
       "3                          [Campeche]\n",
       "4              [Coahuila de Zaragoza]\n",
       "5                            [Colima]\n",
       "6                           [Chiapas]\n",
       "7                         [Chihuahua]\n",
       "8                  [Ciudad de México]\n",
       "9                           [Durango]\n",
       "10                       [Guanajuato]\n",
       "11                         [Guerrero]\n",
       "12                          [Hidalgo]\n",
       "13                          [Jalisco]\n",
       "14                           [México]\n",
       "15              [Michoacán de Ocampo]\n",
       "16                          [Morelos]\n",
       "17                          [Nayarit]\n",
       "18                       [Nuevo León]\n",
       "19                           [Oaxaca]\n",
       "20                           [Puebla]\n",
       "21                        [Querétaro]\n",
       "22                     [Quintana Roo]\n",
       "23                  [San Luis Potosí]\n",
       "24                          [Sinaloa]\n",
       "25                           [Sonora]\n",
       "26                          [Tabasco]\n",
       "27                       [Tamaulipas]\n",
       "28                         [Tlaxcala]\n",
       "29  [Veracruz de Ignacio de la Llave]\n",
       "30                          [Yucatán]\n",
       "31                        [Zacatecas]"
      ]
     },
     "execution_count": 195,
     "metadata": {},
     "output_type": "execute_result"
    }
   ],
   "source": [
    "estados_mex"
   ]
  },
  {
   "cell_type": "code",
   "execution_count": 165,
   "id": "cubic-education",
   "metadata": {},
   "outputs": [],
   "source": [
    "#Valores refentes a los estados con más muertes dependiendo de la enfermedad\n",
    "indices_estados = [mayor_infartos, mayor_diabetessc, mayor_diabetescc]\n",
    "muertes = [infartos[mayor_infartos], diabetes_sc[mayor_diabetessc], diabetes_cc[mayor_diabetescc]]\n"
   ]
  },
  {
   "cell_type": "code",
   "execution_count": 164,
   "id": "positive-blame",
   "metadata": {},
   "outputs": [
    {
     "name": "stdout",
     "output_type": "stream",
     "text": [
      "Estados con mayor indice de mortalidad, considerando las enfermedades detectadas:\n",
      "1. Infartos al miocardio: ['Ciudad de México'] / 43576 muertes en 2017\n",
      "2. Diabetes Mellitus sin complicaciones: ['Ciudad de México'] / 14692 muertes en 2017\n",
      "3. Diabetes Mellitus con complicaciones renales: ['México'] / 16284 muertes en 2017\n"
     ]
    }
   ],
   "source": [
    "#Impresión de Estados con mayor índice de mortalidad dependiendo de la enfermedad detectada\n",
    "print('Estados con mayor indice de mortalidad, considerando las enfermedades detectadas:')\n",
    "print('1. Infartos al miocardio: {} / {} muertes en 2017'.format(estados_mex.Estados.values[indices_estados[0]], muertes[0]))\n",
    "print('2. Diabetes Mellitus sin complicaciones: {} / {} muertes en 2017'.format(estados_mex.Estados.values[indices_estados[1]], muertes[1]))\n",
    "print('3. Diabetes Mellitus con complicaciones renales: {} / {} muertes en 2017'.format(estados_mex.Estados.values[indices_estados[2]], muertes[2]))"
   ]
  },
  {
   "cell_type": "code",
   "execution_count": null,
   "id": "angry-england",
   "metadata": {},
   "outputs": [],
   "source": []
  }
 ],
 "metadata": {
  "kernelspec": {
   "display_name": "Python 3",
   "language": "python",
   "name": "python3"
  },
  "language_info": {
   "codemirror_mode": {
    "name": "ipython",
    "version": 3
   },
   "file_extension": ".py",
   "mimetype": "text/x-python",
   "name": "python",
   "nbconvert_exporter": "python",
   "pygments_lexer": "ipython3",
   "version": "3.6.10"
  }
 },
 "nbformat": 4,
 "nbformat_minor": 5
}
